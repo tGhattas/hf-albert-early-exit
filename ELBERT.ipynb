{
  "cells": [
    {
      "cell_type": "markdown",
      "metadata": {
        "id": "view-in-github",
        "colab_type": "text"
      },
      "source": [
        "<a href=\"https://colab.research.google.com/github/tGhattas/hf-albert-early-exit/blob/main/ELBERT.ipynb\" target=\"_parent\"><img src=\"https://colab.research.google.com/assets/colab-badge.svg\" alt=\"Open In Colab\"/></a>"
      ]
    },
    {
      "cell_type": "code",
      "execution_count": null,
      "metadata": {
        "id": "KXzT8hQzYPTJ"
      },
      "outputs": [],
      "source": [
        "from google.colab import drive\n",
        "drive.mount('/content/drive', force_remount=True)"
      ]
    },
    {
      "cell_type": "code",
      "execution_count": 1,
      "metadata": {
        "colab": {
          "base_uri": "https://localhost:8080/"
        },
        "id": "YYex1iZK4lqN",
        "outputId": "35f738c5-45d5-42b5-9505-f7d1671bcfa4"
      },
      "outputs": [
        {
          "output_type": "stream",
          "name": "stdout",
          "text": [
            "Mon Aug 28 07:23:01 2023       \n",
            "+-----------------------------------------------------------------------------+\n",
            "| NVIDIA-SMI 525.105.17   Driver Version: 525.105.17   CUDA Version: 12.0     |\n",
            "|-------------------------------+----------------------+----------------------+\n",
            "| GPU  Name        Persistence-M| Bus-Id        Disp.A | Volatile Uncorr. ECC |\n",
            "| Fan  Temp  Perf  Pwr:Usage/Cap|         Memory-Usage | GPU-Util  Compute M. |\n",
            "|                               |                      |               MIG M. |\n",
            "|===============================+======================+======================|\n",
            "|   0  NVIDIA A100-SXM...  Off  | 00000000:00:04.0 Off |                    0 |\n",
            "| N/A   40C    P0    48W / 400W |      0MiB / 40960MiB |      0%      Default |\n",
            "|                               |                      |             Disabled |\n",
            "+-------------------------------+----------------------+----------------------+\n",
            "                                                                               \n",
            "+-----------------------------------------------------------------------------+\n",
            "| Processes:                                                                  |\n",
            "|  GPU   GI   CI        PID   Type   Process name                  GPU Memory |\n",
            "|        ID   ID                                                   Usage      |\n",
            "|=============================================================================|\n",
            "|  No running processes found                                                 |\n",
            "+-----------------------------------------------------------------------------+\n"
          ]
        }
      ],
      "source": [
        "!nvidia-smi\n"
      ]
    },
    {
      "cell_type": "code",
      "execution_count": null,
      "metadata": {
        "id": "z4-FjR1hKL82"
      },
      "outputs": [],
      "source": [
        "!git clone https://github.com/tGhattas/hf-albert-early-exit.git"
      ]
    },
    {
      "cell_type": "code",
      "execution_count": null,
      "metadata": {
        "id": "BPc9C6IJKY3N"
      },
      "outputs": [],
      "source": [
        "%cd hf-albert-early-exit"
      ]
    },
    {
      "cell_type": "code",
      "execution_count": null,
      "metadata": {
        "id": "7wg3NVDbFqH0"
      },
      "outputs": [],
      "source": [
        "!git pull"
      ]
    },
    {
      "cell_type": "code",
      "execution_count": null,
      "metadata": {
        "id": "pYU3w7vUKgj6"
      },
      "outputs": [],
      "source": [
        "!ls"
      ]
    },
    {
      "cell_type": "markdown",
      "metadata": {
        "id": "8JbkJtb8cwg1"
      },
      "source": [
        "# Trainer\n"
      ]
    },
    {
      "cell_type": "code",
      "execution_count": null,
      "metadata": {
        "id": "6jogAU3UKoqq"
      },
      "outputs": [],
      "source": [
        "!pip install -r requirements.txt\n",
        "!pip install transformers[torch]"
      ]
    },
    {
      "cell_type": "code",
      "execution_count": null,
      "metadata": {
        "id": "OUjDl98FLqTd"
      },
      "outputs": [],
      "source": [
        "from main import run\n",
        "buffer = run(batch_size=64, dataset_to_run=\"sst2\", hidden_layers_multipliers=[1, 1.5, 2])"
      ]
    },
    {
      "cell_type": "code",
      "execution_count": null,
      "metadata": {
        "id": "3i7I2k35VpOZ"
      },
      "outputs": [],
      "source": [
        "import json\n",
        "with open(\"outputs/eval_consolidated_results.json\", \"w\") as f:\n",
        "  json.dump(buffer, f)"
      ]
    },
    {
      "cell_type": "code",
      "execution_count": null,
      "metadata": {
        "id": "PfZhBRRMXOoG"
      },
      "outputs": [],
      "source": [
        "!cp ./outputs /content/drive/MyDrive/Colab\\ Notebooks/MY_ELBERT_SNLI -r\n",
        "!ls /content/drive/MyDrive/Colab\\ Notebooks/MY_ELBERT_SNLI -r"
      ]
    },
    {
      "cell_type": "code",
      "execution_count": null,
      "metadata": {
        "id": "RYLpOhx-t8hC"
      },
      "outputs": [],
      "source": [
        "from main import fill_in_dataframes\n",
        "for config in buffer:\n",
        "  buffer[config].update({\"exit_th\": config.split('_')[-1]})\n",
        "dfs = fill_in_dataframes(buffer)\n"
      ]
    },
    {
      "cell_type": "code",
      "execution_count": null,
      "metadata": {
        "id": "4lRTpbvmTawR"
      },
      "outputs": [],
      "source": [
        "dfs['sst2']"
      ]
    },
    {
      "cell_type": "code",
      "execution_count": null,
      "metadata": {
        "colab": {
          "background_save": true
        },
        "id": "0FwXVPGsVdDR"
      },
      "outputs": [],
      "source": [
        "dfs['snli']"
      ]
    },
    {
      "cell_type": "code",
      "execution_count": null,
      "metadata": {
        "colab": {
          "background_save": true
        },
        "id": "HvgVeJdJVdUc"
      },
      "outputs": [],
      "source": [
        "dfs['multi']\n"
      ]
    }
  ],
  "metadata": {
    "accelerator": "GPU",
    "colab": {
      "machine_shape": "hm",
      "provenance": [],
      "gpuType": "A100",
      "include_colab_link": true
    },
    "kernelspec": {
      "display_name": "Python 3",
      "name": "python3"
    },
    "language_info": {
      "name": "python"
    }
  },
  "nbformat": 4,
  "nbformat_minor": 0
}